{
 "cells": [
  {
   "cell_type": "markdown",
   "id": "d3bfc191-8885-42ee-b0a0-bbab867c6f9f",
   "metadata": {
    "tags": []
   },
   "source": [
    "# Lab | Flow Control"
   ]
  },
  {
   "cell_type": "code",
   "execution_count": 13,
   "id": "a28dee65-71ce-4bb5-9b6a-3742c391f880",
   "metadata": {},
   "outputs": [],
   "source": [
    "products = [\"t-shirt\", \"mug\", \"hat\", \"book\", \"keychain\"]"
   ]
  },
  {
   "cell_type": "code",
   "execution_count": 15,
   "id": "c1e861b7-3f38-44f3-bb08-d8d796744c4c",
   "metadata": {},
   "outputs": [],
   "source": [
    "inventory={}"
   ]
  },
  {
   "cell_type": "code",
   "execution_count": 17,
   "id": "c90ec520-a00c-4801-b203-49ed3c8f2c2d",
   "metadata": {},
   "outputs": [
    {
     "name": "stdin",
     "output_type": "stream",
     "text": [
      "Please, enter the quantity of t-shirt available in the inventory:  22\n",
      "Please, enter the quantity of mug available in the inventory:  32\n",
      "Please, enter the quantity of hat available in the inventory:  43\n",
      "Please, enter the quantity of book available in the inventory:  54\n",
      "Please, enter the quantity of keychain available in the inventory:  66\n"
     ]
    }
   ],
   "source": [
    "for product in products:\n",
    "  quantity = int(input(f\"Please, enter the quantity of {product} available in the inventory: \"))\n",
    "  inventory[product] = quantity"
   ]
  },
  {
   "cell_type": "code",
   "execution_count": 41,
   "id": "1479a745-dbca-460c-927f-b0e2b5f578f6",
   "metadata": {},
   "outputs": [],
   "source": [
    "customer_orders=set()"
   ]
  },
  {
   "cell_type": "code",
   "execution_count": 21,
   "id": "60fd0fd1-e54e-4976-85fd-ba663f03fb83",
   "metadata": {},
   "outputs": [
    {
     "name": "stdin",
     "output_type": "stream",
     "text": [
      "Enter the name of the product you want to order (options: t-shirt, mug, hat, book, keychain):  hat\n",
      "Enter the name of the product you want to order (options: t-shirt, mug, hat, book, keychain):  mug\n",
      "Enter the name of the product you want to order (options: t-shirt, mug, hat, book, keychain):  book\n"
     ]
    }
   ],
   "source": [
    "for i in range(3):\n",
    "    order = input(f\"Enter the name of the product you want to order (options: {', '.join(products)}): \")\n",
    "    if order in products:\n",
    "        customer_orders.add(order)\n",
    "    else:\n",
    "        print(\"Invalid product, please choose one from the list.\")"
   ]
  },
  {
   "cell_type": "code",
   "execution_count": 23,
   "id": "5a41f388-a792-4867-a750-a7084f76d4fa",
   "metadata": {},
   "outputs": [
    {
     "name": "stdout",
     "output_type": "stream",
     "text": [
      "{'mug', 'hat', 'book'}\n"
     ]
    }
   ],
   "source": [
    "print(customer_orders)"
   ]
  },
  {
   "cell_type": "code",
   "execution_count": 25,
   "id": "5bdd090a-547e-4cad-91d2-b9773af79ede",
   "metadata": {},
   "outputs": [],
   "source": [
    "total_products_ordered=len(customer_orders)\n",
    "percentage_of_products_ordered= (total_products_ordered / len(products))*100\n",
    "order_status=(total_products_ordered,percentage_of_products_ordered)"
   ]
  },
  {
   "cell_type": "code",
   "execution_count": 27,
   "id": "4cf49bcd-dcfb-4a49-8c95-917d4a103512",
   "metadata": {},
   "outputs": [
    {
     "name": "stdout",
     "output_type": "stream",
     "text": [
      "Order Statistics:\n",
      "Total Products Ordered:3\n",
      "Percentage of Products Ordered: 60.0\n"
     ]
    }
   ],
   "source": [
    "print(\"Order Statistics:\")\n",
    "print(f\"Total Products Ordered:{total_products_ordered}\")\n",
    "print(f\"Percentage of Products Ordered: {percentage_of_products_ordered}\")"
   ]
  },
  {
   "cell_type": "code",
   "execution_count": 29,
   "id": "eac34dda-3bc2-4be5-a826-73bdc436209f",
   "metadata": {},
   "outputs": [],
   "source": [
    "for product in customer_orders:\n",
    "    if inventory[product] > 0:\n",
    "         inventory[product] -= 1"
   ]
  },
  {
   "cell_type": "code",
   "execution_count": 31,
   "id": "3eb987a5-3cd6-4efb-92f3-f5598095209f",
   "metadata": {},
   "outputs": [
    {
     "name": "stdout",
     "output_type": "stream",
     "text": [
      "Inventory updated:\n",
      "t-shirt: 22\n",
      "mug: 31\n",
      "hat: 42\n",
      "book: 53\n",
      "keychain: 66\n"
     ]
    }
   ],
   "source": [
    "print(\"Inventory updated:\")\n",
    "for product, quantity in inventory.items():\n",
    "    print(f\"{product}: {quantity}\")"
   ]
  },
  {
   "cell_type": "markdown",
   "id": "3851fcd1-cf98-4653-9c89-e003b7ec9400",
   "metadata": {},
   "source": [
    "## Exercise: Managing Customer Orders Optimized\n",
    "\n",
    "In the last lab, you were starting an online store that sells various products. To ensure smooth operations, you developed a program that manages customer orders and inventory.\n",
    "\n",
    "You did so without using flow control. Let's go a step further and improve this code.\n",
    "\n",
    "Follow the steps below to complete the exercise:\n",
    "\n",
    "1. Look at your code from the lab data structures, and improve repeated code with loops.\n",
    "\n",
    "2. Instead of asking the user to input the name of three products that a customer wants to order, do the following:\n",
    "    \n",
    "    a. Prompt the user to enter the name of a product that a customer wants to order.\n",
    "    \n",
    "    b. Add the product name to the \"customer_orders\" set.\n",
    "    \n",
    "    c. Ask the user if they want to add another product (yes/no).\n",
    "    \n",
    "    d. Continue the loop until the user does not want to add another product.\n",
    "\n",
    "3. Instead of updating the inventory by subtracting 1 from the quantity of each product, only do it for  the products that were ordered (those in \"customer_orders\")."
   ]
  },
  {
   "cell_type": "code",
   "execution_count": null,
   "id": "059dbf93-e127-4ca9-bb4e-1b0e49d89693",
   "metadata": {},
   "outputs": [],
   "source": [
    "for product in products:\n",
    "  quantity = int(input(f\"Please, enter the quantity of {product} available in the inventory: \"))\n",
    "  inventory[product] = quantity"
   ]
  },
  {
   "cell_type": "code",
   "execution_count": 35,
   "id": "2250166f-8184-4818-950f-0ae92fea7fd4",
   "metadata": {},
   "outputs": [
    {
     "name": "stdin",
     "output_type": "stream",
     "text": [
      "Enter the name of the product you want to order (options: t-shirt, mug, hat, book, keychain):  hat\n",
      "Do you want to include another product? Say yes or no yes\n",
      "Enter the name of the product you want to order (options: t-shirt, mug, hat, book, keychain):  mug\n",
      "Do you want to include another product? Say yes or no yes\n",
      "Enter the name of the product you want to order (options: t-shirt, mug, hat, book, keychain):  book\n",
      "Do you want to include another product? Say yes or no no\n"
     ]
    }
   ],
   "source": [
    "while True:\n",
    "    order = input(f\"Enter the name of the product you want to order (options: {', '.join(products)}): \")\n",
    "    if order in products:\n",
    "        customer_orders.add(order)\n",
    "    else:\n",
    "        print(\"Invalid product, please choose one from the list.\")\n",
    "    other_product=input(f\"Do you want to include another product? Say yes or no\")\n",
    "    if other_product != \"yes\":\n",
    "        break\n",
    "    "
   ]
  },
  {
   "cell_type": "code",
   "execution_count": 48,
   "id": "9d83f96c-5ec6-4ec6-8527-a482ea4e1569",
   "metadata": {},
   "outputs": [],
   "source": [
    "for product in customer_orders:\n",
    "    if product in inventory and inventory[costumer_orders] > 0:\n",
    "         inventory[product] -= 1\n",
    "    else:\n",
    "        print(f\"No hay suficiente inventario para el producto: {product}\")"
   ]
  }
 ],
 "metadata": {
  "kernelspec": {
   "display_name": "Python 3 (ipykernel)",
   "language": "python",
   "name": "python3"
  },
  "language_info": {
   "codemirror_mode": {
    "name": "ipython",
    "version": 3
   },
   "file_extension": ".py",
   "mimetype": "text/x-python",
   "name": "python",
   "nbconvert_exporter": "python",
   "pygments_lexer": "ipython3",
   "version": "3.12.4"
  }
 },
 "nbformat": 4,
 "nbformat_minor": 5
}
